{
 "cells": [
  {
   "cell_type": "markdown",
   "metadata": {},
   "source": [
    "# Budujemy stronę portfolio"
   ]
  },
  {
   "cell_type": "markdown",
   "metadata": {},
   "source": [
    "## Instalujemy potrzebne biblioteki\n",
    "\n",
    "W terminalu wpisujemy:\n",
    "\n",
    "```bash\n",
    "conda activate od_zera_do_ai\n",
    "conda install -y conda-forge::mkdocs\n",
    "conda install -y conda-forge::mkdocs-material\n",
    "```"
   ]
  },
  {
   "cell_type": "markdown",
   "metadata": {},
   "source": [
    "## Tworzymy bardzo prostą stronę z informacjami o mnie "
   ]
  },
  {
   "cell_type": "markdown",
   "metadata": {},
   "source": [
    "### Tworzymy nowy projekt przy użyciu biblioteki `mkdocs`\n",
    "\n",
    "- Otwórz terminal\n",
    "- W terminalu przejdź do katalogu (np. `od_zera_do_ai`), w którym chcesz stworzyć i trzymać repozytorium z Twoim portfolio i wpisz (wcześniej aktywujemy środowisko `od_zera_do_ai`):\n",
    "\n",
    "```bash\n",
    "mkdocs new \"ds_ai_portfolio\"\n",
    "```\n",
    "\n",
    "Komenda ta utworzy następującą strukturę katalogów:\n",
    "\n",
    "```\n",
    "├── docs\n",
    "│   └── index.md\n",
    "└── mkdocs.yml\n",
    "```"
   ]
  },
  {
   "cell_type": "markdown",
   "metadata": {},
   "source": [
    "### Pierwsze zmiany i tzw. serwowanie lokalnie\n",
    "\n",
    "W terminalu wpisz, aby przejść do katalogu z projektem:\n",
    "\n",
    "```bash\n",
    "cd ds_ai_portfolio\n",
    "```\n",
    "\n",
    "Następnie wpisz, aby uruchomić serwer lokalnie:\n",
    "\n",
    "```bash\n",
    "mkdocs serve\n",
    "```"
   ]
  },
  {
   "cell_type": "markdown",
   "metadata": {},
   "source": [
    "### Zmieniamy styl\n",
    "\n",
    "W pliku `mkdocs.yml` zmieniamy styl na `material`:\n",
    "\n",
    "```yaml\n",
    "theme:\n",
    "  name: material\n",
    "```"
   ]
  },
  {
   "cell_type": "markdown",
   "metadata": {
    "vscode": {
     "languageId": "plaintext"
    }
   },
   "source": [
    "Uruchom ponownie serwer:\n",
    "\n",
    "```bash\n",
    "mkdocs serve\n",
    "```\n"
   ]
  },
  {
   "cell_type": "markdown",
   "metadata": {},
   "source": [
    "### Dodajemy pierwsze projekty\n",
    "\n",
    "Zobaczmy jak dodać pierwsze projekty do naszego portfolio.\n",
    "\n",
    "Skorzystamy z waszych projektów oczywiście!\n",
    "\n",
    "Utworzymy następującą strukturę katalogów:\n",
    "\n",
    "```\n",
    "├── docs\n",
    "│   ├── iris\n",
    "│   │   ├── index.md\n",
    "│   │   ├── iris.html\n",
    "│   │   └── iris.ipynb\n",
    "│   ├── titanic\n",
    "│   │   ├── index.md\n",
    "│   │   ├── titanic.html\n",
    "│   │   └── titanic.ipynb\n",
    "│   └── index.md\n",
    "└── mkdocs.yml\n",
    "```"
   ]
  },
  {
   "cell_type": "markdown",
   "metadata": {},
   "source": [
    "### Ładniejsza nawigacja\n",
    "\n",
    "Musimy oczyścić plik.md oraz nawigację:\n",
    "```yaml\n",
    "site_name: Moje projekty\n",
    "site_author: Maciej Sobczak\n",
    "site_description: >-\n",
    "    Portfolio moich wspaniałych projektów z Data Science i AI!\n",
    "\n",
    "theme:\n",
    "  name: material\n",
    "\n",
    "nav:\n",
    "- Strona Domowa: index.md\n",
    "- Obecny projekt:\n",
    "  - \"Titanic\": titanic/index.md\n",
    "- Poprzednie projekty:\n",
    "  - \"Iris\": iris/index.md\n",
    "```"
   ]
  },
  {
   "cell_type": "markdown",
   "metadata": {},
   "source": [
    "### Zmiana kolorów\n",
    "\n",
    "https://squidfunk.github.io/mkdocs-material/setup/changing-the-colors/#primary-color"
   ]
  },
  {
   "cell_type": "markdown",
   "metadata": {},
   "source": [
    "### Dodajemy więcej elementów\n",
    "\n",
    "Na stronie https://squidfunk.github.io/mkdocs-material/reference znajdziemy całe mnóstwo ciekawych dodatkowych opcji, które możemy wykorzystać."
   ]
  }
 ],
 "metadata": {
  "kernelspec": {
   "display_name": "ozdai",
   "language": "python",
   "name": "python3"
  },
  "language_info": {
   "codemirror_mode": {
    "name": "ipython",
    "version": 3
   },
   "file_extension": ".py",
   "mimetype": "text/x-python",
   "name": "python",
   "nbconvert_exporter": "python",
   "pygments_lexer": "ipython3",
   "version": "3.11.11"
  }
 },
 "nbformat": 4,
 "nbformat_minor": 4
}
