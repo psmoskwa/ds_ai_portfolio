{
 "cells": [
  {
   "cell_type": "markdown",
   "metadata": {},
   "source": [
    "# Publikujemy nasze portfolio na GitHub Pages"
   ]
  },
  {
   "cell_type": "markdown",
   "metadata": {},
   "source": [
    "### Tworzymy repozytorium na GitHubie\n",
    "\n",
    "Przejdź na strone [GitHub](https://github.com)\n",
    "\n",
    "Zaloguj się i kliknij przycisk \"New\" w prawym górnym rogu i utwórz nowe **publiczne** repozytorium o nazwie `ds_ai_portfolio`.\n"
   ]
  },
  {
   "cell_type": "markdown",
   "metadata": {},
   "source": [
    "następnie wykonujemy kroki zgodnie z instrukcjami"
   ]
  },
  {
   "cell_type": "markdown",
   "metadata": {},
   "source": [
    "### Dodajemy info o repozytorium do naszego projektu\n",
    "\n",
    "W pliku `mkdocs.yml` dodajemy:\n",
    "\n",
    "```yaml\n",
    "repo_name: maciejATcosphere/ds_ai_portfolio\n",
    "repo_url: https://github.com/maciejATcosphere/ds_ai_portfolio\n",
    "```"
   ]
  },
  {
   "cell_type": "markdown",
   "metadata": {},
   "source": [
    "### Wdrażamy nasze portfolio na GitHub Pages\n",
    "\n",
    "W terminalu wykonujemy komendę:\n",
    "\n",
    "```bash\n",
    "mkdocs gh-deploy\n",
    "```\n",
    "\n",
    "następnie na stronie tzw. Github Actions sprawdzamy czy nasz deployment się udał."
   ]
  },
  {
   "cell_type": "markdown",
   "metadata": {},
   "source": [
    "### Dodajemy `site_url` do mkdocs.yml\n",
    "\n",
    "W pliku `mkdocs.yml` dodajemy:\n",
    "```yaml\n",
    "site_url: https://maciejatcosphere.github.io/ds_ai_portfolio\n",
    "```\n",
    "\n",
    "Mój końcowy plik `mkdocs.yml` wygląda tak:\n",
    "\n",
    "```yaml\n",
    "site_name: Moje projekty\n",
    "site_author: Maciej Sobczak\n",
    "site_url: https://maciejatcosphere.github.io/ds_ai_portfolio\n",
    "site_description: >-\n",
    "    Portfolio moich wspaniałych projektów z Data Science i AI!\n",
    "\n",
    "repo_name: maciejATcosphere/ds_ai_portfolio\n",
    "repo_url: https://github.com/maciejATcosphere/ds_ai_portfolio\n",
    "\n",
    "theme:\n",
    "  name: material\n",
    "  palette:\n",
    "    primary: yellow\n",
    "\n",
    "nav:\n",
    "- Strona Domowa: index.md\n",
    "- Obecny projekt:\n",
    "  - \"Titanic\": titanic/index.md\n",
    "- Poprzednie projekty:\n",
    "  - \"Iris\": iris/index.md\n",
    "```"
   ]
  },
  {
   "cell_type": "code",
   "execution_count": null,
   "metadata": {},
   "outputs": [],
   "source": []
  }
 ],
 "metadata": {
  "kernelspec": {
   "display_name": "ozdai",
   "language": "python",
   "name": "python3"
  },
  "language_info": {
   "codemirror_mode": {
    "name": "ipython",
    "version": 3
   },
   "file_extension": ".py",
   "mimetype": "text/x-python",
   "name": "python",
   "nbconvert_exporter": "python",
   "pygments_lexer": "ipython3",
   "version": "3.11.11"
  }
 },
 "nbformat": 4,
 "nbformat_minor": 4
}
